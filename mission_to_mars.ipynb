{
 "cells": [
  {
   "cell_type": "code",
   "execution_count": 1,
   "metadata": {},
   "outputs": [],
   "source": [
    "#import dependencies\n",
    "from splinter import Browser\n",
    "from bs4 import BeautifulSoup as bs\n",
    "import pandas as pd\n",
    "import requests\n",
    "import pymongo"
   ]
  },
  {
   "cell_type": "code",
   "execution_count": 2,
   "metadata": {},
   "outputs": [],
   "source": [
    "#load driver for Splinter\n",
    "executable_path = {'executable_path': 'chromedriver.exe'}\n",
    "browser = Browser('chrome', **executable_path, headless=False)"
   ]
  },
  {
   "cell_type": "code",
   "execution_count": 3,
   "metadata": {},
   "outputs": [],
   "source": [
    "# URL of page to be scraped\n",
    "url = 'https://mars.nasa.gov/news/'\n",
    "browser.visit(url)\n",
    "\n",
    "#create a str of the webpage code\n",
    "html = browser.html\n",
    "\n",
    "# Create BeautifulSoup object; parse with 'html'\n",
    "soup = bs(html, 'html.parser')"
   ]
  },
  {
   "cell_type": "code",
   "execution_count": 16,
   "metadata": {},
   "outputs": [],
   "source": [
    "#initiate empty dictionary\n",
    "mars_dict=[]"
   ]
  },
  {
   "cell_type": "code",
   "execution_count": 17,
   "metadata": {},
   "outputs": [],
   "source": [
    "# Get first 1st news title\n",
    "div_result = soup.find('div', class_='content_title')\n",
    "news_title = div_result.find('a').text"
   ]
  },
  {
   "cell_type": "code",
   "execution_count": 19,
   "metadata": {},
   "outputs": [],
   "source": [
    "# Get teaser of 1st news article\n",
    "news_teaser = soup.find('div', class_='article_teaser_body').text\n",
    "news_teaser\n",
    "mars_dict.append({\"News Title\":news_title, \"News Teaser\":news_teaser})"
   ]
  },
  {
   "cell_type": "code",
   "execution_count": 21,
   "metadata": {},
   "outputs": [],
   "source": [
    "#load driver for Splinter\n",
    "executable_path = {'executable_path': 'chromedriver.exe'}\n",
    "browser = Browser('chrome', **executable_path, headless=False)\n",
    "\n",
    "#visit jpl spaceimages\n",
    "url = 'https://www.jpl.nasa.gov/spaceimages/'\n",
    "browser.visit(url)\n",
    "\n",
    "#create a str of the webpage code\n",
    "html = browser.html\n",
    "\n",
    "# Create BeautifulSoup object; parse with 'html'\n",
    "soup = bs(html, 'html.parser')"
   ]
  },
  {
   "cell_type": "code",
   "execution_count": 22,
   "metadata": {},
   "outputs": [],
   "source": [
    "# Get URL of Featured Image, concat initial portion of link\n",
    "featured_image_url = 'https://www.jpl.nasa.gov' + soup.find('a', class_='button fancybox')['data-fancybox-href']\n",
    "mars_dict.append({\"Featured URL\":featured_image_url})"
   ]
  },
  {
   "cell_type": "code",
   "execution_count": 23,
   "metadata": {},
   "outputs": [],
   "source": [
    "#load driver for Splinter\n",
    "executable_path = {'executable_path': 'chromedriver.exe'}\n",
    "browser = Browser('chrome', **executable_path, headless=False)\n",
    "\n",
    "#visit mars weather Twitter account\n",
    "url = 'https://twitter.com/marswxreport?lang=en'\n",
    "browser.visit(url)\n",
    "\n",
    "#create a str of the webpage code\n",
    "html = browser.html\n",
    "\n",
    "# Create BeautifulSoup object; parse with 'html'\n",
    "soup = bs(html, 'html.parser')"
   ]
  },
  {
   "cell_type": "code",
   "execution_count": 24,
   "metadata": {},
   "outputs": [],
   "source": [
    "#extract latest tweet with weather\n",
    "latest_tweet = soup.find('p', class_=\"TweetTextSize TweetTextSize--normal js-tweet-text tweet-text\")\n",
    "\n",
    "#remove anchor tag and associated text from paragraph \n",
    "unwanted = latest_tweet.find('a')\n",
    "unwanted.extract()\n",
    "\n",
    "latest_tweet = latest_tweet.text.strip()\n",
    "mars_dict.append({\"Latest Tweet\":latest_tweet})"
   ]
  },
  {
   "cell_type": "code",
   "execution_count": 25,
   "metadata": {},
   "outputs": [],
   "source": [
    "url = 'https://space-facts.com/mars/'\n",
    "\n",
    "#extract all tables into a list\n",
    "tables = pd.read_html(url)\n",
    "mars_dict.append({\"Space Facts\":tables[0]})"
   ]
  },
  {
   "cell_type": "code",
   "execution_count": 26,
   "metadata": {},
   "outputs": [],
   "source": [
    "#use first table from list\n",
    "mars_facts_df = tables[0]\n",
    "\n",
    "#rename columns\n",
    "mars_facts_df.columns = ['Parameter', 'Measure']"
   ]
  },
  {
   "cell_type": "code",
   "execution_count": 27,
   "metadata": {},
   "outputs": [],
   "source": [
    "#List with test you want to click later\n",
    "mars_hemisps = [\"Cerberus Hemisphere Enhanced\",\"Schiaparelli Hemisphere Enhanced\",\n",
    "              \"Syrtis Major Hemisphere Enhanced\", \"Valles Marineris Hemisphere Enhanced\"]\n",
    "\n",
    "#empty list to store dictionary\n",
    "mars_hemisps_dict=[]\n",
    "\n",
    "#load driver for Splinter\n",
    "executable_path = {'executable_path': 'chromedriver.exe'}\n",
    "browser = Browser('chrome', **executable_path, headless=False)\n",
    "\n",
    "#visit mars weather Twitter account\n",
    "url = 'https://astrogeology.usgs.gov/search/results?q=hemisphere+enhanced&k1=target&v1=Mars'\n",
    "browser.visit(url)\n",
    "\n",
    "#create a str of the webpage code\n",
    "html = browser.html\n",
    "\n",
    "# Create BeautifulSoup object; parse with 'html'\n",
    "soup = bs(html, 'html.parser')\n",
    "\n",
    "#loop to click test, extract data, and return to original page\n",
    "for hemi in mars_hemisps:\n",
    "    browser.click_link_by_partial_text(hemi)\n",
    "    \n",
    "    html = browser.html\n",
    "\n",
    "    # Create BeautifulSoup object; parse with 'html'\n",
    "    soup = bs(html, 'html.parser')\n",
    "\n",
    "    # Get first 1st news title\n",
    "    image_title = soup.find('h2', class_='title').text\n",
    "\n",
    "    #get url, create final url\n",
    "    image_url = 'https://astrogeology.usgs.gov' + soup.find('img', class_='wide-image')['src']\n",
    "    \n",
    "    dict = {\"title\":image_title, \"URL\":image_url}\n",
    "    \n",
    "    mars_dict.append(dict)\n",
    "\n",
    "    browser.back()"
   ]
  },
  {
   "cell_type": "code",
   "execution_count": 28,
   "metadata": {},
   "outputs": [
    {
     "data": {
      "text/plain": [
       "[{'News Title': 'For InSight, Dust Cleanings Will Yield New Science',\n",
       "  'News Teaser': 'Wind can be crucial to clearing dust from spacecraft solar panels on Mars. With InSight\\'s meteorological sensors, scientists get their first measurements of wind and dust interacting \"live\" on the Martian surface.  '},\n",
       " {'Latest Tweet': 'InSight sol 156 (2019-05-05) low -99.2ºC (-146.6ºF) high -18.1ºC (-0.6ºF)\\nwinds from the SW at 4.7 m/s (10.5 mph) gusting to 13.8 m/s (30.8 mph)\\npressure at 7.40 hPa'},\n",
       " {'Space Facts':               Parameter                        Measure\n",
       "  0  Equatorial Diameter:                       6,792 km\n",
       "  1       Polar Diameter:                       6,752 km\n",
       "  2                 Mass:  6.42 x 10^23 kg (10.7% Earth)\n",
       "  3                Moons:            2 (Phobos & Deimos)\n",
       "  4       Orbit Distance:       227,943,824 km (1.52 AU)\n",
       "  5         Orbit Period:           687 days (1.9 years)\n",
       "  6  Surface Temperature:                  -153 to 20 °C\n",
       "  7         First Record:              2nd millennium BC\n",
       "  8          Recorded By:           Egyptian astronomers},\n",
       " {'title': 'Cerberus Hemisphere Enhanced',\n",
       "  'URL': 'https://astrogeology.usgs.gov/cache/images/cfa62af2557222a02478f1fcd781d445_cerberus_enhanced.tif_full.jpg'},\n",
       " {'title': 'Schiaparelli Hemisphere Enhanced',\n",
       "  'URL': 'https://astrogeology.usgs.gov/cache/images/3cdd1cbf5e0813bba925c9030d13b62e_schiaparelli_enhanced.tif_full.jpg'},\n",
       " {'title': 'Syrtis Major Hemisphere Enhanced',\n",
       "  'URL': 'https://astrogeology.usgs.gov/cache/images/ae209b4e408bb6c3e67b6af38168cf28_syrtis_major_enhanced.tif_full.jpg'},\n",
       " {'title': 'Valles Marineris Hemisphere Enhanced',\n",
       "  'URL': 'https://astrogeology.usgs.gov/cache/images/7cf2da4bf549ed01c17f206327be4db7_valles_marineris_enhanced.tif_full.jpg'}]"
      ]
     },
     "execution_count": 28,
     "metadata": {},
     "output_type": "execute_result"
    }
   ],
   "source": [
    "#Print List\n",
    "mars_dict"
   ]
  }
 ],
 "metadata": {
  "kernelspec": {
   "display_name": "Python 3",
   "language": "python",
   "name": "python3"
  },
  "language_info": {
   "codemirror_mode": {
    "name": "ipython",
    "version": 3
   },
   "file_extension": ".py",
   "mimetype": "text/x-python",
   "name": "python",
   "nbconvert_exporter": "python",
   "pygments_lexer": "ipython3",
   "version": "3.7.1"
  }
 },
 "nbformat": 4,
 "nbformat_minor": 2
}
